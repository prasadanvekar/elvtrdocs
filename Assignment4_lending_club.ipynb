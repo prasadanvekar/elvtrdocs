{
  "nbformat": 4,
  "nbformat_minor": 0,
  "metadata": {
    "colab": {
      "provenance": [],
      "authorship_tag": "ABX9TyOMm4l11QwP2RxrttPyoS+z",
      "include_colab_link": true
    },
    "kernelspec": {
      "name": "python3",
      "display_name": "Python 3"
    },
    "language_info": {
      "name": "python"
    }
  },
  "cells": [
    {
      "cell_type": "markdown",
      "metadata": {
        "id": "view-in-github",
        "colab_type": "text"
      },
      "source": [
        "<a href=\"https://colab.research.google.com/github/prasadanvekar/elvtrdocs/blob/main/Assignment4_lending_club.ipynb\" target=\"_parent\"><img src=\"https://colab.research.google.com/assets/colab-badge.svg\" alt=\"Open In Colab\"/></a>"
      ]
    },
    {
      "cell_type": "code",
      "source": [
        "import os\n",
        "import pandas as pd\n",
        "import sklearn as sk\n",
        "import json\n",
        "import numpy as np\n",
        "\n",
        "\n",
        "DATA_PATH = \"accepted_2007_to_2018Q4.csv\"\n",
        "\n",
        "if os.path.exists(DATA_PATH):\n",
        "    # Read from file if we've already downloaded the data.\n",
        "    with open(DATA_PATH) as f:\n",
        "        data = pd.read_csv('accepted_2007_to_2018Q4.csv', low_memory=False)\n",
        "else:\n",
        "     print(\"File not found!\")\n",
        "\n"
      ],
      "metadata": {
        "id": "B-Nx8M02HunX"
      },
      "execution_count": null,
      "outputs": []
    }
  ]
}