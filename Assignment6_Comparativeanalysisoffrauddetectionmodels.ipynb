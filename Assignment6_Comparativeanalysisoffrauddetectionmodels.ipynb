{
  "nbformat": 4,
  "nbformat_minor": 0,
  "metadata": {
    "colab": {
      "provenance": [],
      "authorship_tag": "ABX9TyNz7FVYygRMs/Dz9GhHg2D8",
      "include_colab_link": true
    },
    "kernelspec": {
      "name": "python3",
      "display_name": "Python 3"
    },
    "language_info": {
      "name": "python"
    }
  },
  "cells": [
    {
      "cell_type": "markdown",
      "metadata": {
        "id": "view-in-github",
        "colab_type": "text"
      },
      "source": [
        "<a href=\"https://colab.research.google.com/github/prasadanvekar/elvtrdocs/blob/main/Assignment6_Comparativeanalysisoffrauddetectionmodels.ipynb\" target=\"_parent\"><img src=\"https://colab.research.google.com/assets/colab-badge.svg\" alt=\"Open In Colab\"/></a>"
      ]
    },
    {
      "cell_type": "code",
      "execution_count": null,
      "metadata": {
        "id": "b5kOvtNz_btY"
      },
      "outputs": [],
      "source": [
        "import numpy as np\n",
        "import pandas as pd\n",
        "import matplotlib.pyplot as plt\n",
        "from pmdarima import auto_arima\n",
        "from sklearn.linear_model import LinearRegression\n",
        "from sklearn.metrics import mean_absolute_error, mean_squared_error\n",
        "\n",
        "# Generate synthetic financial data with a trend\n",
        "np.random.seed(42)\n",
        "n_points = 100\n",
        "time = np.arange(n_points)\n",
        "trend = 0.5 * time + np.random.normal(scale=5, size=n_points)\n",
        "financial_data = pd.DataFrame({'Time': time, 'Trend': trend})\n",
        "\n",
        "# Split the data into training and testing sets\n",
        "train_size = int(0.8 * n_points)\n",
        "train_data = financial_data.head(train_size).copy()\n",
        "test_data = financial_data.tail(n_points - train_size).copy()\n",
        "\n",
        "# Fit a linear regression model\n",
        "model = LinearRegression()\n",
        "model.fit(train_data[['Time']], train_data['Trend'])\n",
        "\n",
        "# Predict the trend for the test set\n",
        "test_data['Trend_Predicted'] = model.predict(test_data[['Time']])\n",
        "\n",
        "# Calculate performance metrics\n",
        "mae = mean_absolute_error(test_data['Trend'], test_data['Trend_Predicted'])\n",
        "mse = mean_squared_error(test_data['Trend'], test_data['Trend_Predicted'])\n",
        "rmse = np.sqrt(mse)\n",
        "\n",
        "# Print performance metrics\n",
        "print(f\"Mean Absolute Error (MAE): {mae:.2f}\")\n",
        "print(f\"Mean Squared Error (MSE): {mse:.2f}\")\n",
        "print(f\"Root Mean Squared Error (RMSE): {rmse:.2f}\")\n",
        "\n",
        "# Plot the actual and predicted trends\n",
        "plt.figure(figsize=(10, 6))\n",
        "plt.plot(train_data['Time'], train_data['Trend'], label='Training Data', marker='o')\n",
        "plt.plot(test_data['Time'], test_data['Trend'], label='Actual Trend', marker='o')\n",
        "plt.plot(test_data['Time'], test_data['Trend_Predicted'], label='Predicted Trend', linestyle='--', marker='o')\n",
        "plt.title('Financial Time Series Trend Forecasting')\n",
        "plt.xlabel('Time')\n",
        "plt.ylabel('Value')\n",
        "plt.legend()\n",
        "plt.show()\n",
        "\n",
        "# Auto-fit ARIMA model\n",
        "auto_model = auto_arima(train_data['Trend'], seasonal=False, suppress_warnings=True)\n",
        "fit_model = auto_model.fit(train_data['Trend'])\n",
        "\n",
        "# Forecast the trend for the test set\n",
        "forecast = fit_model.predict(n_periods=len(test_data))\n",
        "\n",
        "# Calculate performance metrics\n",
        "mae = mean_absolute_error(test_data['Trend'], forecast)\n",
        "mse = mean_squared_error(test_data['Trend'], forecast)\n",
        "rmse = np.sqrt(mse)\n",
        "\n",
        "# Print performance metrics\n",
        "print(f\"Mean Absolute Error (MAE): {mae:.2f}\")\n",
        "print(f\"Mean Squared Error (MSE): {mse:.2f}\")\n",
        "print(f\"Root Mean Squared Error (RMSE): {rmse:.2f}\")\n",
        "\n",
        "# Plot the actual and predicted trends\n",
        "plt.figure(figsize=(10, 6))\n",
        "plt.plot(train_data['Time'], train_data['Trend'], label='Training Data', marker='o')\n",
        "plt.plot(test_data['Time'], test_data['Trend'], label='Actual Trend', marker='o')\n",
        "plt.plot(test_data['Time'], forecast, label='Predicted Trend', linestyle='--', marker='o')\n",
        "plt.title('Financial Time Series Trend Forecasting with ARIMA (Auto-fit)')\n",
        "plt.xlabel('Time')\n",
        "plt.ylabel('Value')\n",
        "plt.legend()\n",
        "plt.show()\n"
      ]
    }
  ]
}